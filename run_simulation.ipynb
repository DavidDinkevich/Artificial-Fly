{
 "cells": [
  {
   "cell_type": "markdown",
   "id": "61aa230a",
   "metadata": {},
   "source": [
    "# Example of Running the Simulation"
   ]
  },
  {
   "cell_type": "code",
   "execution_count": 1,
   "id": "d8d2e410096a2142",
   "metadata": {
    "ExecuteTime": {
     "end_time": "2024-07-20T13:41:26.797008Z",
     "start_time": "2024-07-20T13:41:25.326966Z"
    }
   },
   "outputs": [],
   "source": [
    "# Comment the following line if you want to view the plots in a separate window:\n",
    "# %matplotlib inline\n",
    "\n",
    "import numpy as np\n",
    "import random\n",
    "import time\n",
    "\n",
    "from DiscreteRLFlyEnv import DiscreteFlyEnv\n",
    "from computations import RAD2DEG\n",
    "from controller import QController\n",
    "\n",
    "import matplotlib.pyplot as plt\n",
    "import seaborn as sns\n",
    "from utils import map_range"
   ]
  },
  {
   "cell_type": "markdown",
   "id": "6352a3b1",
   "metadata": {},
   "source": [
    "Load a Trained Q-Table"
   ]
  },
  {
   "cell_type": "code",
   "execution_count": null,
   "id": "fc8ecafc",
   "metadata": {},
   "outputs": [],
   "source": [
    "q_table = np.load('train_results/q_table_final.npy')\n",
    "\n",
    "print(f'Q Table Shape: {q_table.shape} = {q_table.shape[0] * q_table.shape[1] * q_table.shape[2]} entries')"
   ]
  },
  {
   "cell_type": "markdown",
   "id": "f6a21cdf",
   "metadata": {},
   "source": [
    "Create an environment with the same configuration that the Q-Table was trained on"
   ]
  },
  {
   "cell_type": "code",
   "execution_count": null,
   "id": "b662a17bf3c88cd8",
   "metadata": {
    "ExecuteTime": {
     "end_time": "2024-07-20T13:41:26.804873Z",
     "start_time": "2024-07-20T13:41:26.797745Z"
    }
   },
   "outputs": [],
   "source": [
    "state_space = q_table.shape[:2]\n",
    "n_actions = q_table.shape[2]\n",
    "env = DiscreteFlyEnv(config_path='physics_engine/config_short.json', state_space=state_space, action_space=n_actions)\n",
    "\n",
    "print(\"Observation Space\", env.observation_space)\n",
    "print(\"Sample observation\", env.observation_space.sample())  # display a random observation\n",
    "print(\"Action Space Shape\", env.action_space.n)\n",
    "print(\"Action Space Sample\", env.action_space.sample())\n"
   ]
  },
  {
   "cell_type": "markdown",
   "id": "e7c59ec8",
   "metadata": {},
   "source": [
    "Creating the Prerequisites"
   ]
  },
  {
   "cell_type": "code",
   "execution_count": null,
   "id": "79f05c90",
   "metadata": {},
   "outputs": [],
   "source": [
    "'''Play with various controllers:'''\n",
    "controller = QController(q_table)\n",
    "\n",
    "'''If you want to randomize the starting pitch and delta pitch, uncomment:'''\n",
    "# random_start_pitch = random.uniform(-np.pi, np.pi)\n",
    "# random_start_delta_pitch = random.uniform(-140, 140)\n",
    "# env.curr_euler_angles[1] = random_start_pitch\n",
    "# env.curr_angular_vel[1] = random_start_delta_pitch\n",
    "\n",
    "print(f'Start pitch: {env.curr_euler_angles[1] * RAD2DEG}')\n",
    "print(f'Start delta pitch: {env.curr_angular_vel[1]}')"
   ]
  },
  {
   "cell_type": "markdown",
   "id": "18a56a37",
   "metadata": {},
   "source": [
    "Run Loop"
   ]
  },
  {
   "cell_type": "code",
   "execution_count": null,
   "id": "3b923e96",
   "metadata": {},
   "outputs": [],
   "source": [
    "begin = time.time() # Keep track of how long the simulation runs\n",
    "\n",
    "action = np.zeros(env.action_space.shape) # Initial action is to do nothing\n",
    "i = 0\n",
    "is_done = False\n",
    "\n",
    "while not is_done:\n",
    "    if i % 20 == 0:\n",
    "        print(f'Iteration {i}')\n",
    "    obs, reward, is_done, info = env.step(action)\n",
    "    action = controller.respond(obs)[0]\n",
    "\n",
    "    i += 1\n",
    "\n",
    "print(f'Total time elapsed before rendering: {time.time() - begin}')"
   ]
  },
  {
   "cell_type": "markdown",
   "id": "69ef65a8",
   "metadata": {},
   "source": [
    "Render the flight. To see the Plotly trajectory (recommended!), open the \"plotly_flight.html\" file that was generated."
   ]
  },
  {
   "cell_type": "code",
   "execution_count": null,
   "id": "e708219f",
   "metadata": {},
   "outputs": [],
   "source": [
    "env.render(\n",
    "    x_axis=False, \n",
    "    x_vs_z=False, \n",
    "    render_3d=False, \n",
    "    render_3d_plotly=True, \n",
    "    render_euler_angles=True,\n",
    "    render_delta_euler_angles=True\n",
    ")"
   ]
  },
  {
   "cell_type": "markdown",
   "id": "89537e09",
   "metadata": {},
   "source": [
    "# Increasing the Resolution of the Q-Table via Interpolation"
   ]
  },
  {
   "cell_type": "code",
   "execution_count": 21,
   "id": "bd02ae9b",
   "metadata": {},
   "outputs": [],
   "source": [
    "def double_resolution(q_table):\n",
    "    # Create an empty array with the new shape\n",
    "    extended_q_table = np.zeros((q_table.shape[0]*2 - 1, q_table.shape[1]*2 - 1, q_table.shape[2]))\n",
    "\n",
    "    # Copy original values into new table\n",
    "    extended_q_table[::2, ::2, :] = q_table\n",
    "\n",
    "    # Interpolate along the rows\n",
    "    extended_q_table[1::2, ::2, :] = (q_table[:-1, :, :] + q_table[1:, :, :]) / 2\n",
    "    extended_q_table[::2, 1::2, :] = (q_table[:, :-1, :] + q_table[:, 1:, :]) / 2\n",
    "    extended_q_table[1::2, 1::2, :] = (\n",
    "        q_table[:-1, :-1, :] + q_table[1:, :-1, :] + q_table[:-1, 1:, :] + q_table[1:, 1:, :]\n",
    "    ) / 4\n",
    "    return extended_q_table\n",
    "\n",
    "extended_q_table = double_resolution(q_table)"
   ]
  },
  {
   "cell_type": "code",
   "execution_count": 22,
   "id": "498c9797",
   "metadata": {},
   "outputs": [],
   "source": [
    "def q_table_heatmap(q_table, env: DiscreteFlyEnv):\n",
    "    angle_bucket_size = (env.pitch_range[1] - env.pitch_range[0]) / q_table.shape[0]\n",
    "    angle_buckets = np.round(np.arange(env.pitch_range[0], env.pitch_range[1], angle_bucket_size) * RAD2DEG, 2)\n",
    "    delta_pitch_bucket_size = (env.delta_pitch_range[1] - env.delta_pitch_range[0]) / q_table.shape[1]\n",
    "    delta_pitches = np.round(np.arange(env.delta_pitch_range[0], env.delta_pitch_range[1], delta_pitch_bucket_size), 2)\n",
    "\n",
    "    q_aggregated = np.argmax(q_table, axis=-1).T\n",
    "    q_aggregated = map_range(q_aggregated, 0, env.action_space.n-1, env.delta_phi_range[0], env.delta_phi_range[1])\n",
    "    # Create a single heatmap\n",
    "    plt.figure(figsize=(10, 8))\n",
    "    sns.heatmap(q_aggregated, xticklabels=angle_buckets, yticklabels=delta_pitches, annot=False, fmt=\".2f\", cmap=\"coolwarm\")\n",
    "    plt.title('Heatmap of Q-table Aggregated Across Actions')\n",
    "    plt.xlabel('Angles')\n",
    "    plt.ylabel('Y-axis')\n",
    "    plt.show()\n",
    "\n",
    "q_table_heatmap(extended_q_table, env)"
   ]
  },
  {
   "cell_type": "code",
   "execution_count": null,
   "id": "9366f0c4",
   "metadata": {},
   "outputs": [],
   "source": [
    "state_space = extended_q_table.shape[:2]\n",
    "n_actions = extended_q_table.shape[2]\n",
    "env = DiscreteFlyEnv(config_path='config.json', state_space=state_space, action_space=n_actions)\n",
    "\n",
    "'''Play with various controllers:'''\n",
    "controller = QController(extended_q_table)\n",
    "\n",
    "'''If you want to randomize the starting pitch and delta pitch, uncomment:'''\n",
    "# random_start_pitch = random.uniform(-np.pi, np.pi)\n",
    "# random_start_delta_pitch = random.uniform(-140, 140)\n",
    "# env.curr_euler_angles[1] = random_start_pitch\n",
    "# env.curr_angular_vel[1] = random_start_delta_pitch\n",
    "\n",
    "print(f'Start pitch: {env.curr_euler_angles[1] * RAD2DEG}')\n",
    "print(f'Start delta pitch: {env.curr_angular_vel[1]}')\n",
    "\n",
    "\n"
   ]
  },
  {
   "cell_type": "code",
   "execution_count": null,
   "id": "d04c24de",
   "metadata": {},
   "outputs": [],
   "source": [
    "begin = time.time() # Keep track of how long the simulation runs\n",
    "\n",
    "action = np.zeros(env.action_space.shape) # Initial action is to do nothing\n",
    "i = 0\n",
    "is_done = False\n",
    "\n",
    "while not is_done:\n",
    "    if i % 20 == 0:\n",
    "        print(f'Iteration {i}')\n",
    "    obs, reward, is_done, info = env.step(action)\n",
    "    action = controller.respond(obs)[0]\n",
    "\n",
    "    i += 1\n",
    "\n",
    "print(f'Total time elapsed before rendering: {time.time() - begin}')"
   ]
  },
  {
   "cell_type": "code",
   "execution_count": null,
   "id": "e68a95a3",
   "metadata": {},
   "outputs": [],
   "source": [
    "env.render(\n",
    "    x_axis=False, \n",
    "    x_vs_z=False, \n",
    "    render_3d=False, \n",
    "    render_3d_plotly=True, \n",
    "    render_euler_angles=True,\n",
    "    render_delta_euler_angles=True\n",
    ")"
   ]
  }
 ],
 "metadata": {
  "kernelspec": {
   "display_name": "fly_network",
   "language": "python",
   "name": "python3"
  },
  "language_info": {
   "codemirror_mode": {
    "name": "ipython",
    "version": 3
   },
   "file_extension": ".py",
   "mimetype": "text/x-python",
   "name": "python",
   "nbconvert_exporter": "python",
   "pygments_lexer": "ipython3",
   "version": "3.11.8"
  }
 },
 "nbformat": 4,
 "nbformat_minor": 5
}
