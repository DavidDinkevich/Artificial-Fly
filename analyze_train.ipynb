{
 "cells": [
  {
   "cell_type": "code",
   "execution_count": 1,
   "id": "d8d2e410096a2142",
   "metadata": {
    "ExecuteTime": {
     "end_time": "2024-07-20T13:41:26.797008Z",
     "start_time": "2024-07-20T13:41:25.326966Z"
    }
   },
   "outputs": [],
   "source": [
    "# Comment the following line if you want to view the plots in a separate window:\n",
    "# %matplotlib inline\n",
    "\n",
    "import matplotlib.pyplot as plt\n",
    "import numpy as np\n",
    "import seaborn as sns\n",
    "import pickle\n",
    "from scipy.stats import rankdata\n",
    "\n",
    "from DiscreteRLFlyEnv import DiscreteFlyEnv\n",
    "from computations import DEG2RAD, RAD2DEG\n",
    "from utils import map_range, smooth_array"
   ]
  },
  {
   "cell_type": "markdown",
   "id": "2754b713",
   "metadata": {},
   "source": [
    "Load a Trained Q-Table"
   ]
  },
  {
   "cell_type": "code",
   "execution_count": 2,
   "id": "fc8ecafc",
   "metadata": {},
   "outputs": [
    {
     "name": "stdout",
     "output_type": "stream",
     "text": [
      "Q Table Shape: (59, 9, 7) = 3717 entries\n"
     ]
    }
   ],
   "source": [
    "q_table = np.load('train_results/q_table_final.npy')\n",
    "\n",
    "print(f'Q Table Shape: {q_table.shape} = {q_table.shape[0] * q_table.shape[1] * q_table.shape[2]} entries')"
   ]
  },
  {
   "cell_type": "markdown",
   "id": "bb570d4a",
   "metadata": {},
   "source": [
    "Create an environment with the same configuration that the Q-Table was trained on"
   ]
  },
  {
   "cell_type": "code",
   "execution_count": 3,
   "id": "b662a17bf3c88cd8",
   "metadata": {
    "ExecuteTime": {
     "end_time": "2024-07-20T13:41:26.804873Z",
     "start_time": "2024-07-20T13:41:26.797745Z"
    }
   },
   "outputs": [
    {
     "name": "stdout",
     "output_type": "stream",
     "text": [
      "Observation Space MultiDiscrete([59  9])\n",
      "Sample observation [16  0]\n",
      "Action Space Shape 7\n",
      "Action Space Sample 2\n"
     ]
    }
   ],
   "source": [
    "state_space = q_table.shape[:2]\n",
    "n_actions = q_table.shape[2]\n",
    "env = DiscreteFlyEnv(config_path='config.json', state_space=state_space, action_space=n_actions)\n",
    "\n",
    "print(\"Observation Space\", env.observation_space)\n",
    "print(\"Sample observation\", env.observation_space.sample())  # display a random observation\n",
    "print(\"Action Space Shape\", env.action_space.n)\n",
    "print(\"Action Space Sample\", env.action_space.sample())\n"
   ]
  },
  {
   "cell_type": "markdown",
   "id": "8411a588",
   "metadata": {},
   "source": [
    "# Visualizing the Q-Table"
   ]
  },
  {
   "cell_type": "markdown",
   "id": "8e7f2f16",
   "metadata": {},
   "source": [
    "Probably the best way: a heatmap, where the x-axis is the pitch-state buckets, y-axis is the delta-pitch buckets, and the values are the delta-phi values."
   ]
  },
  {
   "cell_type": "code",
   "execution_count": 4,
   "id": "0021956e",
   "metadata": {},
   "outputs": [],
   "source": [
    "def q_table_heatmap(q_table, env: DiscreteFlyEnv):\n",
    "    angle_bucket_size = (env.pitch_range[1] - env.pitch_range[0]) / q_table.shape[0]\n",
    "    angle_buckets = np.round(np.arange(env.pitch_range[0], env.pitch_range[1], angle_bucket_size) * RAD2DEG, 2)\n",
    "    delta_pitch_bucket_size = (env.delta_pitch_range[1] - env.delta_pitch_range[0]) / q_table.shape[1]\n",
    "    delta_pitches = np.round(np.arange(env.delta_pitch_range[0], env.delta_pitch_range[1], delta_pitch_bucket_size), 2)\n",
    "\n",
    "    q_aggregated = np.argmax(q_table, axis=-1).T\n",
    "    q_aggregated = map_range(q_aggregated, 0, env.action_space.n-1, env.delta_phi_range[0], env.delta_phi_range[1])\n",
    "    # Create a single heatmap\n",
    "    plt.figure(figsize=(10, 8))\n",
    "    sns.heatmap(q_aggregated, xticklabels=angle_buckets, yticklabels=delta_pitches, annot=False, fmt=\".2f\", cmap=\"coolwarm\")\n",
    "    plt.title('Heatmap of Q-table Aggregated Across Actions')\n",
    "    plt.xlabel('Angles')\n",
    "    plt.ylabel('Y-axis')\n",
    "    plt.show()\n",
    "\n",
    "q_table_heatmap(q_table, env)"
   ]
  },
  {
   "cell_type": "markdown",
   "id": "18eeaf83",
   "metadata": {},
   "source": [
    "Visualize via a line graph, where the x-axis is pitch buckets, y-axis is the delta-phi, each there is one line for each delta-pitch. "
   ]
  },
  {
   "cell_type": "code",
   "execution_count": 5,
   "id": "228d12c2",
   "metadata": {},
   "outputs": [],
   "source": [
    "def q_table_line_graph(q_table, env: DiscreteFlyEnv): \n",
    "    # Plot 2D line plots for a fixed state dimension (e.g., state dimension 1)\n",
    "    angle_bucket_size = (env.pitch_range[1] - env.pitch_range[0]) / q_table.shape[0]\n",
    "    angle_buckets = np.arange(env.pitch_range[0], env.pitch_range[1], angle_bucket_size) * RAD2DEG\n",
    "    delta_pitch_bucket_size = (env.delta_pitch_range[1] - env.delta_pitch_range[0]) / q_table.shape[1]\n",
    "    delta_pitches = np.arange(env.delta_pitch_range[0], env.delta_pitch_range[1], delta_pitch_bucket_size)\n",
    "\n",
    "    plt.figure(figsize=(15, 5))\n",
    "    for delta_pitch in delta_pitches:\n",
    "        discrete_delta_pitch = int(map_range(delta_pitch, env.delta_pitch_range[0], env.delta_pitch_range[1], 0, env.observation_space.nvec[1] - 1))\n",
    "        discrete_delta_phis = np.argmax(q_table[:, discrete_delta_pitch, :], axis=-1)\n",
    "        delta_phis = map_range(discrete_delta_phis, 0, env.action_space.n-1, env.delta_phi_range[0], env.delta_phi_range[1])\n",
    "        plt.plot(angle_buckets, delta_phis, label=f\"Pitch Dot = {delta_pitch}\")\n",
    "        plt.scatter(angle_buckets, delta_phis)  # Add circles for every point\n",
    "\n",
    "    plt.xlabel('Pitch')\n",
    "    plt.ylabel('Delta Phi')\n",
    "    # plt.gca().set_yticklabels(sorted(set(delta_phis)))    \n",
    "    plt.title('Delta Phi per State')\n",
    "    plt.legend()\n",
    "    plt.show()\n",
    "\n",
    "q_table_line_graph(q_table, env)"
   ]
  },
  {
   "cell_type": "markdown",
   "id": "4f248c1f",
   "metadata": {},
   "source": [
    "# Visualize the average pitch per episode throughout training"
   ]
  },
  {
   "cell_type": "markdown",
   "id": "788e931a",
   "metadata": {},
   "source": [
    "The Q-Table was trained to make the pitch converge to -45 degrees."
   ]
  },
  {
   "cell_type": "markdown",
   "id": "6358fc3a",
   "metadata": {},
   "source": [
    "Load the pitch history throughout the training of the Q-Table:"
   ]
  },
  {
   "cell_type": "code",
   "execution_count": 6,
   "id": "e6730aa8",
   "metadata": {},
   "outputs": [
    {
     "name": "stdout",
     "output_type": "stream",
     "text": [
      "Num episodes in pitch history: 5879\n",
      "Median number of data-points per episode: 60.0\n"
     ]
    }
   ],
   "source": [
    "with open('train_results/pitch_history_final.pickle', 'rb') as f:\n",
    "    pitch_history = pickle.load(f)\n",
    "\n",
    "curriculum_level_durations = [300, 300, 300, 300, 300, 400, 600] + [300, 300, 500] + [300, 300, 500] + [300, 400, 500]\n",
    "\n",
    "print(f'Num episodes in pitch history: {len(pitch_history)}')\n",
    "print(f'Median number of data-points per episode: {np.median([len(episode) for episode in pitch_history])}')"
   ]
  },
  {
   "cell_type": "code",
   "execution_count": 7,
   "id": "0cc28a4b",
   "metadata": {},
   "outputs": [],
   "source": [
    "def plot_angle_history(angles_per_episode, angle_name, level_durations):\n",
    "    '''\n",
    "    angles_per_episode: 2d array, where each element is a list of the angle's history in that episode\n",
    "    angle_name: name of the angle being tracked (pitch, roll, yaw, etc.)\n",
    "    level_durations: an array where each element is the number of episodes for that level\n",
    "    '''\n",
    "\n",
    "    # Extract episode means/std/max/min of each episode\n",
    "    episode_means = [np.mean(episode_angles) for episode_angles in angles_per_episode]\n",
    "    episode_stds = [np.std(episode_angles) for episode_angles in angles_per_episode]\n",
    "    episode_max = [np.max(episode_angles) for episode_angles in angles_per_episode]\n",
    "    episode_min = [np.min(episode_angles) for episode_angles in angles_per_episode]\n",
    "\n",
    "    # Smoothen the arrays for nicer plotting\n",
    "    alpha = 0.995\n",
    "    smoothed_means = np.array(smooth_array(episode_means, alpha=alpha))\n",
    "    smoothed_stds = np.array(smooth_array(episode_stds, alpha=alpha))\n",
    "    smoothed_max = np.array(smooth_array(episode_max, alpha=alpha))\n",
    "    smoothed_min = np.array(smooth_array(episode_min, alpha=alpha))\n",
    "\n",
    "    # Display the plot\n",
    "    plt.plot(smoothed_means, label=f'{angle_name} Means', color='r')\n",
    "    plt.plot(smoothed_max, label=f'Max {angle_name}', alpha=0.4)\n",
    "    plt.plot(smoothed_min, label=f'Min {angle_name}', alpha=0.4)\n",
    "    plt.fill_between(range(len(smoothed_means)), smoothed_means - smoothed_stds, \n",
    "                     smoothed_means + smoothed_stds, color='b', alpha=0.2, label='1 Std Dev')\n",
    "        \n",
    "\n",
    "    # plt.plot(smooth_angle_devs, label='Smoothed Pitch Deviations')\n",
    "    for i, level in enumerate(np.cumsum(level_durations)):\n",
    "        plt.axvline(x=level - level_durations[0], color='orange', linestyle='--', linewidth=0.5, label=f'Curriculum Level {i+1}')\n",
    "    plt.xlabel('Episode')\n",
    "    plt.ylabel(f'{angle_name} [degrees]')\n",
    "    plt.title(f'{angle_name} per Episode')\n",
    "    plt.grid(alpha=0.1)\n",
    "    plt.legend(loc='upper left')\n",
    "    plt.show()\n",
    "\n",
    "\n",
    "plot_angle_history(pitch_history, 'Pitch', curriculum_level_durations)"
   ]
  },
  {
   "cell_type": "markdown",
   "id": "54b13562",
   "metadata": {},
   "source": [
    "# Visualize the amount of time the fly spent in each state throughout training"
   ]
  },
  {
   "cell_type": "code",
   "execution_count": 8,
   "id": "85204385",
   "metadata": {},
   "outputs": [],
   "source": [
    "state_heatmap_iter = np.load('train_results/state_heatmap_final.npy')"
   ]
  },
  {
   "cell_type": "code",
   "execution_count": 9,
   "id": "aaf3346f",
   "metadata": {},
   "outputs": [],
   "source": [
    "def show_state_heatmap(hm, title='Heatmap of Q-table Aggregated Across Actions'):\n",
    "    angle_bucket_size = (env.pitch_range[1] - env.pitch_range[0]) / q_table.shape[0]\n",
    "    angle_buckets = np.round(np.arange(env.pitch_range[0], env.pitch_range[1], angle_bucket_size) * RAD2DEG, 2)\n",
    "    delta_pitch_bucket_size = (env.delta_pitch_range[1] - env.delta_pitch_range[0]) / q_table.shape[1]\n",
    "    delta_pitches = np.round(np.arange(env.delta_pitch_range[0], env.delta_pitch_range[1], delta_pitch_bucket_size), 2)\n",
    "\n",
    "    plt.figure(figsize=(10, 8))\n",
    "    sns.heatmap(hm.T, xticklabels=angle_buckets, yticklabels=delta_pitches, annot=False, fmt=\".2f\", cmap=\"coolwarm\")\n",
    "    plt.title(title)\n",
    "    plt.xlabel('Angles')\n",
    "    plt.ylabel('Y-axis')\n",
    "    plt.show()\n",
    "\n",
    "\n",
    "def show_percentile_state_heatmap(hm, title='State Heatmap (Percentiles)'):\n",
    "    q_table_marker = np.zeros_like(hm)\n",
    "\n",
    "    ranks = rankdata(hm, method='average')\n",
    "    percentiles = ranks / hm.reshape(-1, 1).shape[0] * 100\n",
    "\n",
    "    show_state_heatmap(percentiles.reshape(q_table_marker.shape), title)\n",
    "\n",
    "show_percentile_state_heatmap(state_heatmap_iter)"
   ]
  }
 ],
 "metadata": {
  "kernelspec": {
   "display_name": "fly_network",
   "language": "python",
   "name": "python3"
  },
  "language_info": {
   "codemirror_mode": {
    "name": "ipython",
    "version": 3
   },
   "file_extension": ".py",
   "mimetype": "text/x-python",
   "name": "python",
   "nbconvert_exporter": "python",
   "pygments_lexer": "ipython3",
   "version": "3.11.8"
  }
 },
 "nbformat": 4,
 "nbformat_minor": 5
}
